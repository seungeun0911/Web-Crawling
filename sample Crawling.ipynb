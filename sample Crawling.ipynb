{
 "cells": [
  {
   "cell_type": "code",
   "execution_count": 2,
   "id": "7d447a03-002c-42d9-a654-28ce554cfe06",
   "metadata": {},
   "outputs": [],
   "source": [
    "from tqdm import tqdm"
   ]
  },
  {
   "cell_type": "code",
   "execution_count": 8,
   "id": "7fbf352a-eda9-4c22-9f77-d58211077718",
   "metadata": {},
   "outputs": [
    {
     "name": "stderr",
     "output_type": "stream",
     "text": [
      "100%|██████████████████████████████████████████████████████████████████████████████| 1000/1000 [02:44<00:00,  6.08it/s]\n"
     ]
    }
   ],
   "source": [
    "import requests\n",
    "from bs4 import BeautifulSoup\n",
    "import time\n",
    "import csv\n",
    "\n",
    "reviews = []\n",
    "review_data=[]\n",
    "\n",
    "#page를 1부터 1씩 증가하며 URL을 다음 페이지로 바꿈 \n",
    "for page in tqdm(range(1,1001)):\n",
    "    url = f'https://movie.naver.com/movie/point/af/list.naver?&page={page}'\n",
    "    #get : request로 url의  html문서의 내용 요청\n",
    "    html = requests.get(url)\n",
    "    #html을 받아온 문서를 .content로 지정 후 soup객체로 변환\n",
    "    soup = BeautifulSoup(html.content,'html.parser')\n",
    "    #find_all : 지정한 태그의 내용을 모두 찾아 리스트로 반환\n",
    "    reviews = soup.find_all(\"td\",{\"class\":\"title\"})\n",
    "    \n",
    "    #한 페이지의 리뷰 리스트의 리뷰를 하나씩 보면서 데이터 추출\n",
    "    for review in reviews:\n",
    "        sentence = review.find(\"a\",{\"class\":\"report\"}).get(\"onclick\").split(\"', '\")[2]\n",
    "        #만약 리뷰 내용이 비어있다면 데이터를 사용하지 않음\n",
    "        if sentence != \"\":\n",
    "            score = review.find(\"em\").get_text()\n",
    "            review_data.append([sentence,int(score)])\n",
    "            need_reviews_cnt-= 1\n",
    "     \n",
    "columns_name = [\"sentence\",\"score\"]\n",
    "with open ( \"sample.csv\", \"w\", newline =\"\",encoding = 'utf8' ) as f:\n",
    "    write = csv.writer(f)\n",
    "    write.writerow(columns_name)\n",
    "    write.writerows(review_data)"
   ]
  },
  {
   "cell_type": "code",
   "execution_count": 10,
   "id": "9275b8b6-218c-41ed-85be-d1541e6061fe",
   "metadata": {},
   "outputs": [],
   "source": [
    "import pandas as pd\n",
    "df=pd.read_csv(\"sample.csv\")"
   ]
  },
  {
   "cell_type": "code",
   "execution_count": 16,
   "id": "e729f4f7-32e7-4aba-a6ae-4b44b2e02d19",
   "metadata": {},
   "outputs": [
    {
     "data": {
      "text/html": [
       "<div>\n",
       "<style scoped>\n",
       "    .dataframe tbody tr th:only-of-type {\n",
       "        vertical-align: middle;\n",
       "    }\n",
       "\n",
       "    .dataframe tbody tr th {\n",
       "        vertical-align: top;\n",
       "    }\n",
       "\n",
       "    .dataframe thead th {\n",
       "        text-align: right;\n",
       "    }\n",
       "</style>\n",
       "<table border=\"1\" class=\"dataframe\">\n",
       "  <thead>\n",
       "    <tr style=\"text-align: right;\">\n",
       "      <th></th>\n",
       "      <th>sentence</th>\n",
       "      <th>score</th>\n",
       "    </tr>\n",
       "  </thead>\n",
       "  <tbody>\n",
       "    <tr>\n",
       "      <th>0</th>\n",
       "      <td>이걸 영화라고....</td>\n",
       "      <td>1</td>\n",
       "    </tr>\n",
       "    <tr>\n",
       "      <th>1</th>\n",
       "      <td>너무 재밌어요 크리스마스때 그냥 개봉하시지 ㅠㅅㅠ 흥했으면 좋겠습니다</td>\n",
       "      <td>10</td>\n",
       "    </tr>\n",
       "    <tr>\n",
       "      <th>2</th>\n",
       "      <td>눈물이 살짝 없는 편이라 걱정했었는데 너무 슬펐다 후반부에 급발진이 심해서 놀라움 ...</td>\n",
       "      <td>10</td>\n",
       "    </tr>\n",
       "    <tr>\n",
       "      <th>3</th>\n",
       "      <td>프랑스영화 &amp;amp;#34;미라클벨리에&amp;amp;#34; 여주 가창력이 소름돋아요. ...</td>\n",
       "      <td>10</td>\n",
       "    </tr>\n",
       "    <tr>\n",
       "      <th>4</th>\n",
       "      <td>너무 과소평가 되었네요. 볼거리가 정말 많으면서도 중간중간에 가슴을 울리는 대사와 ...</td>\n",
       "      <td>10</td>\n",
       "    </tr>\n",
       "    <tr>\n",
       "      <th>5</th>\n",
       "      <td>일본로맨스 영화의 전형적인 전개이나,갑작스런 사연으로 인한 감정선 파괴</td>\n",
       "      <td>7</td>\n",
       "    </tr>\n",
       "    <tr>\n",
       "      <th>6</th>\n",
       "      <td>기대한만큼  마음을 울리는영화였습니다.뮤지컬도 보고싶어집니다연기력 또한 몰입도에 영...</td>\n",
       "      <td>10</td>\n",
       "    </tr>\n",
       "    <tr>\n",
       "      <th>7</th>\n",
       "      <td>모든 배우들의 열연에 감동했고, 정성화배우의 아바드림으로? 안중근의사가 다녀간 느낌...</td>\n",
       "      <td>10</td>\n",
       "    </tr>\n",
       "    <tr>\n",
       "      <th>8</th>\n",
       "      <td>절대 보지 마세요.완전 지루하고 노잼입니다.평점이 도저히 이해가 안갑니다.돈이 너무...</td>\n",
       "      <td>1</td>\n",
       "    </tr>\n",
       "    <tr>\n",
       "      <th>9</th>\n",
       "      <td>와..잼있네요기억에남겠어요</td>\n",
       "      <td>10</td>\n",
       "    </tr>\n",
       "  </tbody>\n",
       "</table>\n",
       "</div>"
      ],
      "text/plain": [
       "                                            sentence  score\n",
       "0                                        이걸 영화라고....      1\n",
       "1            너무 재밌어요 크리스마스때 그냥 개봉하시지 ㅠㅅㅠ 흥했으면 좋겠습니다      10\n",
       "2  눈물이 살짝 없는 편이라 걱정했었는데 너무 슬펐다 후반부에 급발진이 심해서 놀라움 ...     10\n",
       "3  프랑스영화 &amp;#34;미라클벨리에&amp;#34; 여주 가창력이 소름돋아요. ...     10\n",
       "4  너무 과소평가 되었네요. 볼거리가 정말 많으면서도 중간중간에 가슴을 울리는 대사와 ...     10\n",
       "5            일본로맨스 영화의 전형적인 전개이나,갑작스런 사연으로 인한 감정선 파괴      7\n",
       "6  기대한만큼  마음을 울리는영화였습니다.뮤지컬도 보고싶어집니다연기력 또한 몰입도에 영...     10\n",
       "7  모든 배우들의 열연에 감동했고, 정성화배우의 아바드림으로? 안중근의사가 다녀간 느낌...     10\n",
       "8  절대 보지 마세요.완전 지루하고 노잼입니다.평점이 도저히 이해가 안갑니다.돈이 너무...      1\n",
       "9                                     와..잼있네요기억에남겠어요     10"
      ]
     },
     "execution_count": 16,
     "metadata": {},
     "output_type": "execute_result"
    }
   ],
   "source": [
    "df.head(10)"
   ]
  }
 ],
 "metadata": {
  "kernelspec": {
   "display_name": "geopandas",
   "language": "python",
   "name": "geopandas"
  }
 },
 "nbformat": 4,
 "nbformat_minor": 5
}
