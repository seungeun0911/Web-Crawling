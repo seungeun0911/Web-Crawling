{
 "cells": [
  {
   "cell_type": "code",
   "execution_count": 15,
   "id": "815155f6-ad26-4e82-b6bb-1c921e2c7b61",
   "metadata": {},
   "outputs": [
    {
     "name": "stderr",
     "output_type": "stream",
     "text": [
      "100%|████████████████████████████████████████████████████████████████████████████████████| 1/1 [00:00<00:00,  4.99it/s]\n"
     ]
    }
   ],
   "source": [
    "from tqdm import tqdm\n",
    "import requests\n",
    "from bs4 import BeautifulSoup\n",
    "import pandas as pd\n",
    "\n",
    "reviews = []\n",
    "review_data=[]\n",
    "\n",
    "for page in tqdm(range(1,2)):\n",
    "    url = f'https://movie.naver.com/movie/point/af/list.naver?&page={page}'\n",
    "    html = requests.get(url)\n",
    "    soup = BeautifulSoup(html.content,'html.parser')\n",
    "    reviews = soup.find_all(\"td\",{\"class\":\"title\"})\n",
    "    \n",
    "    for review in reviews:\n",
    "        sentence = review.find(\"a\",{\"class\":\"report\"}).get(\"onclick\").split(\"', '\")[2]\n",
    "        if sentence != \"\":\n",
    "            score = review.find(\"em\").get_text()\n",
    "            review_data.append([sentence,int(score)])\n",
    "     \n",
    "df = pd.DataFrame(review_data, columns=['sentence','score'])"
   ]
  },
  {
   "cell_type": "code",
   "execution_count": 16,
   "id": "ba6431ca-3565-4eb4-9077-e906bf614004",
   "metadata": {},
   "outputs": [
    {
     "data": {
      "text/html": [
       "<div>\n",
       "<style scoped>\n",
       "    .dataframe tbody tr th:only-of-type {\n",
       "        vertical-align: middle;\n",
       "    }\n",
       "\n",
       "    .dataframe tbody tr th {\n",
       "        vertical-align: top;\n",
       "    }\n",
       "\n",
       "    .dataframe thead th {\n",
       "        text-align: right;\n",
       "    }\n",
       "</style>\n",
       "<table border=\"1\" class=\"dataframe\">\n",
       "  <thead>\n",
       "    <tr style=\"text-align: right;\">\n",
       "      <th></th>\n",
       "      <th>sentence</th>\n",
       "      <th>score</th>\n",
       "    </tr>\n",
       "  </thead>\n",
       "  <tbody>\n",
       "    <tr>\n",
       "      <th>0</th>\n",
       "      <td>리쯔웨이 서사가 너무 마음 아프다</td>\n",
       "      <td>10</td>\n",
       "    </tr>\n",
       "    <tr>\n",
       "      <th>1</th>\n",
       "      <td>현빈 북한역을 많이 해서 그런가 여기서도 뷔한말 같아 ㅋㅋ~</td>\n",
       "      <td>8</td>\n",
       "    </tr>\n",
       "    <tr>\n",
       "      <th>2</th>\n",
       "      <td>이상일 감독의 연출 + 홍경표 촬영감독의 촬영 + 마츠자카 토리, 히로세 스즈의 열...</td>\n",
       "      <td>9</td>\n",
       "    </tr>\n",
       "    <tr>\n",
       "      <th>3</th>\n",
       "      <td>말이 필요있나? 그냥 갓램덩크</td>\n",
       "      <td>10</td>\n",
       "    </tr>\n",
       "    <tr>\n",
       "      <th>4</th>\n",
       "      <td>진짜 재미없음 김현주씨 빼고 연기도 다 엉망</td>\n",
       "      <td>2</td>\n",
       "    </tr>\n",
       "    <tr>\n",
       "      <th>5</th>\n",
       "      <td>배우들의 연기가 너무 좋았어요 영화관에서 봤으면 오열했을듯</td>\n",
       "      <td>10</td>\n",
       "    </tr>\n",
       "    <tr>\n",
       "      <th>6</th>\n",
       "      <td>내가 살아온 인생은 거들뿐.. 중학생으로 다시 회귀한 기분. 최고다.</td>\n",
       "      <td>10</td>\n",
       "    </tr>\n",
       "    <tr>\n",
       "      <th>7</th>\n",
       "      <td>돈주고 영화관에서 보기아깝다. 현빈영화중에서 최악에 최악중에 최악일세....허허</td>\n",
       "      <td>2</td>\n",
       "    </tr>\n",
       "    <tr>\n",
       "      <th>8</th>\n",
       "      <td>평점 낮게준 사람들은 플릭스 패트롤 의 순위를 보라. 낮음평점은 잘못된것이다.</td>\n",
       "      <td>7</td>\n",
       "    </tr>\n",
       "    <tr>\n",
       "      <th>9</th>\n",
       "      <td>너무나도 아름다운 영화.... 순수하고 사랑스럽다....</td>\n",
       "      <td>10</td>\n",
       "    </tr>\n",
       "  </tbody>\n",
       "</table>\n",
       "</div>"
      ],
      "text/plain": [
       "                                            sentence  score\n",
       "0                                 리쯔웨이 서사가 너무 마음 아프다     10\n",
       "1                  현빈 북한역을 많이 해서 그런가 여기서도 뷔한말 같아 ㅋㅋ~      8\n",
       "2  이상일 감독의 연출 + 홍경표 촬영감독의 촬영 + 마츠자카 토리, 히로세 스즈의 열...      9\n",
       "3                                   말이 필요있나? 그냥 갓램덩크     10\n",
       "4                           진짜 재미없음 김현주씨 빼고 연기도 다 엉망      2\n",
       "5                   배우들의 연기가 너무 좋았어요 영화관에서 봤으면 오열했을듯     10\n",
       "6             내가 살아온 인생은 거들뿐.. 중학생으로 다시 회귀한 기분. 최고다.     10\n",
       "7       돈주고 영화관에서 보기아깝다. 현빈영화중에서 최악에 최악중에 최악일세....허허      2\n",
       "8       평점 낮게준 사람들은 플릭스 패트롤 의 순위를 보라. 낮음평점은 잘못된것이다.       7\n",
       "9                   너무나도 아름다운 영화.... 순수하고 사랑스럽다....      10"
      ]
     },
     "execution_count": 16,
     "metadata": {},
     "output_type": "execute_result"
    }
   ],
   "source": [
    "df"
   ]
  }
 ],
 "metadata": {
  "kernelspec": {
   "display_name": "geopandas",
   "language": "python",
   "name": "geopandas"
  },
  "language_info": {
   "codemirror_mode": {
    "name": "ipython",
    "version": 3
   },
   "file_extension": ".py",
   "mimetype": "text/x-python",
   "name": "python",
   "nbconvert_exporter": "python",
   "pygments_lexer": "ipython3",
   "version": "3.9.15 (main, Nov  4 2022, 16:35:55) [MSC v.1916 64 bit (AMD64)]"
  }
 },
 "nbformat": 4,
 "nbformat_minor": 5
}
